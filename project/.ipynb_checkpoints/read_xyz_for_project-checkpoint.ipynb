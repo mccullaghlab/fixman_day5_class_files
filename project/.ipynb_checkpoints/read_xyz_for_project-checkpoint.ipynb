{
 "cells": [
  {
   "cell_type": "code",
   "execution_count": 2,
   "metadata": {},
   "outputs": [],
   "source": [
    "import numpy as np\n",
    "import matplotlib\n",
    "import matplotlib.pyplot as plt\n",
    "\n",
    "from matplotlib import animation, rc\n",
    "from IPython.display import HTML\n",
    "%matplotlib inline\n",
    "#matplotlib.rcParams['animation.writer'] = 'avconv'"
   ]
  },
  {
   "cell_type": "code",
   "execution_count": 9,
   "metadata": {},
   "outputs": [],
   "source": [
    "coord = np.loadtxt(\"benz2.xyz\",usecols=(1,2,3))\n",
    "atomNames = np.loadtxt(\"benz2.xyz\",usecols=0,dtype=str)"
   ]
  },
  {
   "cell_type": "code",
   "execution_count": 11,
   "metadata": {},
   "outputs": [
    {
     "name": "stdout",
     "output_type": "stream",
     "text": [
      "C1 [28.252462 41.856075 52.299652]\n",
      "C2 [29.084639 41.999043 51.172962]\n",
      "C3 [27.020437 42.502586 52.419022]\n",
      "C4 [28.547264 42.540844 50.065075]\n",
      "C5 [26.624983 43.176823 51.305428]\n",
      "C6 [27.27232  43.022449 50.10873 ]\n",
      "H1 [28.652456 41.334824 53.165607]\n",
      "H2 [30.081291 41.569645 51.235161]\n",
      "H3 [26.494898 42.511997 53.370491]\n",
      "H4 [29.063324 42.600616 49.110256]\n",
      "H5 [25.635544 43.626438 51.326084]\n",
      "H6 [26.857014 43.431332 49.191177]\n",
      "C1 [28.669636 37.625317 49.825096]\n",
      "C2 [27.661713 37.364559 50.704792]\n",
      "C3 [29.046604 36.693245 48.907967]\n",
      "C4 [26.870613 36.214012 50.64624 ]\n",
      "C5 [28.334179 35.4618   48.83493 ]\n",
      "C6 [27.196407 35.270523 49.620232]\n",
      "H1 [29.221106 38.561913 49.840534]\n",
      "H2 [27.367752 38.097313 51.451939]\n",
      "H3 [29.872299 36.912193 48.235764]\n",
      "H4 [25.990656 36.17466  51.283184]\n",
      "H5 [28.713985 34.676941 48.185841]\n",
      "H6 [26.51268  34.44257  49.451164]\n"
     ]
    }
   ],
   "source": [
    "for i in range(len(atomNames)):\n",
    "    print atomNames[i], coord[i,:]"
   ]
  },
  {
   "cell_type": "code",
   "execution_count": null,
   "metadata": {},
   "outputs": [],
   "source": []
  }
 ],
 "metadata": {
  "kernelspec": {
   "display_name": "Python 2",
   "language": "python",
   "name": "python2"
  },
  "language_info": {
   "codemirror_mode": {
    "name": "ipython",
    "version": 2
   },
   "file_extension": ".py",
   "mimetype": "text/x-python",
   "name": "python",
   "nbconvert_exporter": "python",
   "pygments_lexer": "ipython2",
   "version": "2.7.14"
  }
 },
 "nbformat": 4,
 "nbformat_minor": 2
}
